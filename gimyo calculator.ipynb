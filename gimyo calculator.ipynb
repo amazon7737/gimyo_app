{
 "cells": [
  {
   "cell_type": "code",
   "execution_count": null,
   "id": "union-senegal",
   "metadata": {},
   "outputs": [],
   "source": [
    "## 기묘년 계산기 ## https://namu.wiki/w/%EC%9C%A1%EC%8B%AD%EA%B0%91%EC%9E%90\n",
    "year = int(input(\"년도를 입력하세요 : \"))\n",
    "a = year%10\n",
    "b = year%12\n",
    "\n",
    "gimyo = ['경', '신', '임', '계', '갑', '을', '병', '정', '무', '기']\n",
    "gi = ['신', '유', '술', '해', '자', '축', '인', '묘', '진', '사', '오', '미']\n",
    "\n",
    "print(gimyo[a], gi[b],\"년입니다\")"
   ]
  },
  {
   "cell_type": "code",
   "execution_count": null,
   "id": "baking-baghdad",
   "metadata": {},
   "outputs": [],
   "source": [
    "## 각 동물들 ex 황색토끼면 황색 토끼 이미지 띄워주게됨?"
   ]
  },
  {
   "cell_type": "code",
   "execution_count": null,
   "id": "exciting-brake",
   "metadata": {},
   "outputs": [],
   "source": []
  }
 ],
 "metadata": {
  "kernelspec": {
   "display_name": "Python 3",
   "language": "python",
   "name": "python3"
  },
  "language_info": {
   "codemirror_mode": {
    "name": "ipython",
    "version": 3
   },
   "file_extension": ".py",
   "mimetype": "text/x-python",
   "name": "python",
   "nbconvert_exporter": "python",
   "pygments_lexer": "ipython3",
   "version": "3.8.4rc1"
  }
 },
 "nbformat": 4,
 "nbformat_minor": 5
}
