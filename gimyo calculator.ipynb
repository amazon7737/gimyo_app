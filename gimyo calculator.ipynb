{
 "cells": [
  {
   "cell_type": "code",
   "execution_count": 11,
   "id": "union-senegal",
   "metadata": {},
   "outputs": [
    {
     "name": "stdout",
     "output_type": "stream",
     "text": [
      "년도를 입력하세요 : 1592\n",
      "임 진 년입니다\n"
     ]
    }
   ],
   "source": [
    "## 기묘년 계산기 ## https://namu.wiki/w/%EC%9C%A1%EC%8B%AD%EA%B0%91%EC%9E%90\n",
    "year = int(input(\"년도를 입력하세요 : \"))\n",
    "a = year%10\n",
    "b = year%12\n",
    "\n",
    "gimyo = ['경', '신', '임', '계', '갑', '을', '병', '정', '무', '기']\n",
    "gi = ['신', '유', '술', '해', '자', '축', '인', '묘', '진', '사', '오', '미']\n",
    "\n",
    "print(gimyo[a], gi[b],\"년입니다\")"
   ]
  },
  {
   "cell_type": "code",
   "execution_count": null,
   "id": "baking-baghdad",
   "metadata": {},
   "outputs": [],
   "source": []
  }
 ],
 "metadata": {
  "kernelspec": {
   "display_name": "Python 3",
   "language": "python",
   "name": "python3"
  },
  "language_info": {
   "codemirror_mode": {
    "name": "ipython",
    "version": 3
   },
   "file_extension": ".py",
   "mimetype": "text/x-python",
   "name": "python",
   "nbconvert_exporter": "python",
   "pygments_lexer": "ipython3",
   "version": "3.8.4rc1"
  }
 },
 "nbformat": 4,
 "nbformat_minor": 5
}
